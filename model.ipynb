{
 "cells": [
  {
   "cell_type": "code",
   "execution_count": 24,
   "metadata": {},
   "outputs": [],
   "source": [
    "import pandas as pd\n",
    "import numpy as np"
   ]
  },
  {
   "cell_type": "code",
   "execution_count": 18,
   "metadata": {},
   "outputs": [],
   "source": [
    "data = pd.read_csv(\"merged.csv\")"
   ]
  },
  {
   "cell_type": "code",
   "execution_count": 25,
   "metadata": {},
   "outputs": [
    {
     "data": {
      "text/plain": [
       "<bound method DataFrame.info of         Latitude  Longitude           Timestamp Weather  Age Type_of_Vehicle  \\\n",
       "0          11.06      76.80 2006-06-09 05:41:46   Clear   32           Truck   \n",
       "334        10.88      77.16 2019-01-28 17:28:02  Stormy   33   Auto-rickshaw   \n",
       "374        11.00      77.05 2024-03-25 01:13:09   Windy   18   Auto-rickshaw   \n",
       "375        10.97      77.07 2022-12-19 19:49:42  Stormy   27             Car   \n",
       "415        10.93      76.81 2003-08-23 19:49:18   Rainy   55           Truck   \n",
       "...          ...        ...                 ...     ...  ...             ...   \n",
       "697878     11.11      76.88 2006-02-23 15:43:15   Windy   50             Bus   \n",
       "698321     11.14      77.16 1992-03-28 19:31:26   Rainy   58             Bus   \n",
       "698912     11.13      77.15 2013-07-19 17:17:30  Stormy   27           Truck   \n",
       "700537     11.19      77.02 1998-08-02 23:55:51   Foggy   23            Bike   \n",
       "705536     11.20      76.92 2014-12-29 20:37:35  Stormy   38             Bus   \n",
       "\n",
       "         Road_Type Time_of_Day  Traffic_Density  Speed_Limit  ...  \\\n",
       "0       Rural Road       Night              NaN        120.0  ...   \n",
       "334        Highway     Morning              1.0         60.0  ...   \n",
       "374            NaN         NaN              NaN          NaN  ...   \n",
       "375        Highway     Morning              1.0         60.0  ...   \n",
       "415      City Road     Morning              1.0        100.0  ...   \n",
       "...            ...         ...              ...          ...  ...   \n",
       "697878         NaN         NaN              NaN          NaN  ...   \n",
       "698321   City Road     Morning              1.0        100.0  ...   \n",
       "698912     Highway     Morning              1.0         60.0  ...   \n",
       "700537     Highway   Afternoon              0.0         60.0  ...   \n",
       "705536     Highway     Morning              1.0         60.0  ...   \n",
       "\n",
       "        Road_Condition  Vehicle_Type Driver_Age Driver_Experience  \\\n",
       "0                  Wet         Truck       49.0              43.0   \n",
       "334                Icy           Car       38.0              29.0   \n",
       "374                NaN           NaN        NaN               NaN   \n",
       "375                Icy           Car       38.0              29.0   \n",
       "415                Wet           Car       51.0              48.0   \n",
       "...                ...           ...        ...               ...   \n",
       "697878             NaN           NaN        NaN               NaN   \n",
       "698321             Wet           Car       51.0              48.0   \n",
       "698912             Icy           Car       38.0              29.0   \n",
       "700537             Dry         Truck       27.0              26.0   \n",
       "705536             Icy           Car       38.0              29.0   \n",
       "\n",
       "       Road_Light_Condition  Accident  Hour Day  Month  DayOfWeek  \n",
       "0          Artificial Light         0     5   9      6          4  \n",
       "334        Artificial Light         0    17  28      1          0  \n",
       "374                     NaN         2     1  25      3          0  \n",
       "375        Artificial Light         0    19  19     12          0  \n",
       "415        Artificial Light         0    19  23      8          5  \n",
       "...                     ...       ...   ...  ..    ...        ...  \n",
       "697878                  NaN         2    15  23      2          3  \n",
       "698321     Artificial Light         0    19  28      3          5  \n",
       "698912     Artificial Light         0    17  19      7          4  \n",
       "700537             Daylight         1    23   2      8          6  \n",
       "705536     Artificial Light         0    20  29     12          0  \n",
       "\n",
       "[1561 rows x 23 columns]>"
      ]
     },
     "execution_count": 25,
     "metadata": {},
     "output_type": "execute_result"
    }
   ],
   "source": [
    "data.info\n"
   ]
  },
  {
   "cell_type": "code",
   "execution_count": 20,
   "metadata": {},
   "outputs": [
    {
     "data": {
      "text/plain": [
       "Index(['Latitude', 'Longitude', 'Timestamp', 'Weather', 'Age',\n",
       "       'Type_of_Vehicle', 'Road_Type', 'Time_of_Day', 'Traffic_Density',\n",
       "       'Speed_Limit', 'Number_of_Vehicles', 'Driver_Alcohol',\n",
       "       'Accident_Severity', 'Road_Condition', 'Vehicle_Type', 'Driver_Age',\n",
       "       'Driver_Experience', 'Road_Light_Condition', 'Accident'],\n",
       "      dtype='object')"
      ]
     },
     "execution_count": 20,
     "metadata": {},
     "output_type": "execute_result"
    }
   ],
   "source": [
    "data.columns"
   ]
  },
  {
   "cell_type": "code",
   "execution_count": 26,
   "metadata": {},
   "outputs": [
    {
     "data": {
      "text/plain": [
       "<bound method DataFrame.info of         Latitude  Longitude           Timestamp Weather  Age Type_of_Vehicle  \\\n",
       "0          11.06      76.80 2006-06-09 05:41:46   Clear   32           Truck   \n",
       "334        10.88      77.16 2019-01-28 17:28:02  Stormy   33   Auto-rickshaw   \n",
       "374        11.00      77.05 2024-03-25 01:13:09   Windy   18   Auto-rickshaw   \n",
       "375        10.97      77.07 2022-12-19 19:49:42  Stormy   27             Car   \n",
       "415        10.93      76.81 2003-08-23 19:49:18   Rainy   55           Truck   \n",
       "...          ...        ...                 ...     ...  ...             ...   \n",
       "697878     11.11      76.88 2006-02-23 15:43:15   Windy   50             Bus   \n",
       "698321     11.14      77.16 1992-03-28 19:31:26   Rainy   58             Bus   \n",
       "698912     11.13      77.15 2013-07-19 17:17:30  Stormy   27           Truck   \n",
       "700537     11.19      77.02 1998-08-02 23:55:51   Foggy   23            Bike   \n",
       "705536     11.20      76.92 2014-12-29 20:37:35  Stormy   38             Bus   \n",
       "\n",
       "         Road_Type Time_of_Day  Traffic_Density  Speed_Limit  ...  \\\n",
       "0       Rural Road       Night              NaN        120.0  ...   \n",
       "334        Highway     Morning              1.0         60.0  ...   \n",
       "374            NaN         NaN              NaN          NaN  ...   \n",
       "375        Highway     Morning              1.0         60.0  ...   \n",
       "415      City Road     Morning              1.0        100.0  ...   \n",
       "...            ...         ...              ...          ...  ...   \n",
       "697878         NaN         NaN              NaN          NaN  ...   \n",
       "698321   City Road     Morning              1.0        100.0  ...   \n",
       "698912     Highway     Morning              1.0         60.0  ...   \n",
       "700537     Highway   Afternoon              0.0         60.0  ...   \n",
       "705536     Highway     Morning              1.0         60.0  ...   \n",
       "\n",
       "        Road_Condition  Vehicle_Type Driver_Age Driver_Experience  \\\n",
       "0                  Wet         Truck       49.0              43.0   \n",
       "334                Icy           Car       38.0              29.0   \n",
       "374                NaN           NaN        NaN               NaN   \n",
       "375                Icy           Car       38.0              29.0   \n",
       "415                Wet           Car       51.0              48.0   \n",
       "...                ...           ...        ...               ...   \n",
       "697878             NaN           NaN        NaN               NaN   \n",
       "698321             Wet           Car       51.0              48.0   \n",
       "698912             Icy           Car       38.0              29.0   \n",
       "700537             Dry         Truck       27.0              26.0   \n",
       "705536             Icy           Car       38.0              29.0   \n",
       "\n",
       "       Road_Light_Condition  Accident  Hour Day  Month  DayOfWeek  \n",
       "0          Artificial Light         0     5   9      6          4  \n",
       "334        Artificial Light         0    17  28      1          0  \n",
       "374                     NaN         2     1  25      3          0  \n",
       "375        Artificial Light         0    19  19     12          0  \n",
       "415        Artificial Light         0    19  23      8          5  \n",
       "...                     ...       ...   ...  ..    ...        ...  \n",
       "697878                  NaN         2    15  23      2          3  \n",
       "698321     Artificial Light         0    19  28      3          5  \n",
       "698912     Artificial Light         0    17  19      7          4  \n",
       "700537             Daylight         1    23   2      8          6  \n",
       "705536     Artificial Light         0    20  29     12          0  \n",
       "\n",
       "[1561 rows x 23 columns]>"
      ]
     },
     "execution_count": 26,
     "metadata": {},
     "output_type": "execute_result"
    }
   ],
   "source": [
    "data.drop_duplicates(subset=['Latitude', 'Longitude'], inplace=True)\n",
    "data.info"
   ]
  },
  {
   "cell_type": "code",
   "execution_count": 33,
   "metadata": {},
   "outputs": [
    {
     "ename": "ValueError",
     "evalue": "Missing required feature: Weather",
     "output_type": "error",
     "traceback": [
      "\u001b[1;31m---------------------------------------------------------------------------\u001b[0m",
      "\u001b[1;31mValueError\u001b[0m                                Traceback (most recent call last)",
      "Cell \u001b[1;32mIn[33], line 99\u001b[0m\n\u001b[0;32m     95\u001b[0m lat \u001b[38;5;241m=\u001b[39m \u001b[38;5;241m12.971598\u001b[39m\n\u001b[0;32m     96\u001b[0m long \u001b[38;5;241m=\u001b[39m \u001b[38;5;241m77.594566\u001b[39m\n\u001b[1;32m---> 99\u001b[0m result \u001b[38;5;241m=\u001b[39m \u001b[43mpredict_accident\u001b[49m\u001b[43m(\u001b[49m\u001b[43mlat\u001b[49m\u001b[43m,\u001b[49m\u001b[43m \u001b[49m\u001b[43mlong\u001b[49m\u001b[43m)\u001b[49m\n\u001b[0;32m    100\u001b[0m \u001b[38;5;28mprint\u001b[39m(\u001b[38;5;124mf\u001b[39m\u001b[38;5;124m\"\u001b[39m\u001b[38;5;124mAccident occurred? \u001b[39m\u001b[38;5;132;01m{\u001b[39;00mresult\u001b[38;5;132;01m}\u001b[39;00m\u001b[38;5;124m\"\u001b[39m)\n",
      "Cell \u001b[1;32mIn[33], line 82\u001b[0m, in \u001b[0;36mpredict_accident\u001b[1;34m(lat, long)\u001b[0m\n\u001b[0;32m     80\u001b[0m \u001b[38;5;28;01mfor\u001b[39;00m feature \u001b[38;5;129;01min\u001b[39;00m required_features:\n\u001b[0;32m     81\u001b[0m     \u001b[38;5;28;01mif\u001b[39;00m feature \u001b[38;5;129;01mnot\u001b[39;00m \u001b[38;5;129;01min\u001b[39;00m input_data:\n\u001b[1;32m---> 82\u001b[0m         \u001b[38;5;28;01mraise\u001b[39;00m \u001b[38;5;167;01mValueError\u001b[39;00m(\u001b[38;5;124mf\u001b[39m\u001b[38;5;124m\"\u001b[39m\u001b[38;5;124mMissing required feature: \u001b[39m\u001b[38;5;132;01m{\u001b[39;00mfeature\u001b[38;5;132;01m}\u001b[39;00m\u001b[38;5;124m\"\u001b[39m)\n\u001b[0;32m     84\u001b[0m \u001b[38;5;66;03m# Convert to DataFrame\u001b[39;00m\n\u001b[0;32m     85\u001b[0m input_df \u001b[38;5;241m=\u001b[39m pd\u001b[38;5;241m.\u001b[39mDataFrame(input_data)\n",
      "\u001b[1;31mValueError\u001b[0m: Missing required feature: Weather"
     ]
    }
   ],
   "source": [
    "import pandas as pd\n",
    "from sklearn.model_selection import train_test_split\n",
    "from sklearn.tree import DecisionTreeClassifier\n",
    "from sklearn.metrics import classification_report, accuracy_score\n",
    "from sklearn.preprocessing import LabelEncoder, OneHotEncoder, StandardScaler\n",
    "from sklearn.compose import ColumnTransformer\n",
    "from sklearn.pipeline import Pipeline\n",
    "\n",
    "# Load the dataset\n",
    "data = pd.read_csv('merged.csv')  # Replace with your dataset path\n",
    "\n",
    "# Encode the target variable\n",
    "data['Accident'] = LabelEncoder().fit_transform(data['Accident'])\n",
    "\n",
    "# Convert the Timestamp column to datetime and extract meaningful features\n",
    "data['Timestamp'] = pd.to_datetime(data['Timestamp'])\n",
    "data['Hour'] = data['Timestamp'].dt.hour\n",
    "data['Day'] = data['Timestamp'].dt.day\n",
    "data['Month'] = data['Timestamp'].dt.month\n",
    "data['DayOfWeek'] = data['Timestamp'].dt.dayofweek\n",
    "\n",
    "# Define features and target\n",
    "features = [\n",
    "    'Latitude', 'Longitude', 'Weather', 'Age', 'Type_of_Vehicle', 'Road_Type', 'Time_of_Day', \n",
    "    'Traffic_Density', 'Speed_Limit', 'Number_of_Vehicles', 'Driver_Alcohol', 'Accident_Severity', \n",
    "    'Road_Condition', 'Vehicle_Type', 'Driver_Age', 'Driver_Experience', 'Road_Light_Condition', \n",
    "    'Hour', 'Day', 'Month', 'DayOfWeek'\n",
    "]\n",
    "X = data[features]\n",
    "y = data['Accident']\n",
    "\n",
    "# Preprocessing for categorical and numerical features\n",
    "categorical_features = [\n",
    "    'Weather', 'Type_of_Vehicle', 'Road_Type', 'Time_of_Day', 'Traffic_Density', 'Driver_Alcohol', \n",
    "    'Accident_Severity', 'Road_Condition', 'Vehicle_Type', 'Road_Light_Condition'\n",
    "]\n",
    "numerical_features = [\n",
    "    'Latitude', 'Longitude', 'Age', 'Speed_Limit', 'Number_of_Vehicles', 'Driver_Age', \n",
    "    'Driver_Experience', 'Hour', 'Day', 'Month', 'DayOfWeek'\n",
    "]\n",
    "\n",
    "# Preprocessor for the pipeline\n",
    "preprocessor = ColumnTransformer(\n",
    "    transformers=[\n",
    "        ('num', StandardScaler(), numerical_features),\n",
    "        ('cat', OneHotEncoder(), categorical_features)\n",
    "    ]\n",
    ")\n",
    "\n",
    "# Decision Tree Classifier\n",
    "pipeline = Pipeline(steps=[\n",
    "    ('preprocessor', preprocessor),\n",
    "    ('classifier', DecisionTreeClassifier(\n",
    "        max_depth=5,  # Adjust depth for better accuracy\n",
    "        min_samples_split=5,\n",
    "        random_state=42\n",
    "    ))\n",
    "])\n",
    "\n",
    "# Train the model on the entire dataset\n",
    "pipeline.fit(X, y)\n",
    "\n",
    "# Function to predict accident occurrence\n",
    "def predict_accident(lat, long):\n",
    "    # Ensure all features are included in the input\n",
    "    input_data = {\n",
    "        'Latitude': [lat],\n",
    "        'Longitude': [long]\n",
    "    }\n",
    "    \n",
    "    # Ensure all required features are present\n",
    "    required_features = [\n",
    "        'Latitude', 'Longitude', 'Weather', 'Age', 'Type_of_Vehicle', 'Road_Type', 'Time_of_Day',\n",
    "        'Traffic_Density', 'Speed_Limit', 'Number_of_Vehicles', 'Driver_Alcohol', \n",
    "        'Accident_Severity', 'Road_Condition', 'Vehicle_Type', 'Driver_Age', 'Driver_Experience', \n",
    "        'Road_Light_Condition', 'Hour', 'Day', 'Month', 'DayOfWeek'\n",
    "    ]\n",
    "    \n",
    "    # Check for missing features\n",
    "    for feature in required_features:\n",
    "        if feature not in input_data:\n",
    "            raise ValueError(f\"Missing required feature: {feature}\")\n",
    "    \n",
    "    # Convert to DataFrame\n",
    "    input_df = pd.DataFrame(input_data)\n",
    "    \n",
    "    # Predict using the pipeline\n",
    "    prediction = pipeline.predict(input_df)\n",
    "    \n",
    "    # Convert prediction to Yes/No\n",
    "    return \"Yes\" if prediction[0] == 1 else \"No\"\n",
    "\n",
    "\n",
    "# Example usage\n",
    "lat = 12.971598\n",
    "long = 77.594566\n",
    "\n",
    "\n",
    "result = predict_accident(lat, long)\n",
    "print(f\"Accident occurred? {result}\")\n"
   ]
  }
 ],
 "metadata": {
  "kernelspec": {
   "display_name": "Python 3",
   "language": "python",
   "name": "python3"
  },
  "language_info": {
   "codemirror_mode": {
    "name": "ipython",
    "version": 3
   },
   "file_extension": ".py",
   "mimetype": "text/x-python",
   "name": "python",
   "nbconvert_exporter": "python",
   "pygments_lexer": "ipython3",
   "version": "3.11.9"
  }
 },
 "nbformat": 4,
 "nbformat_minor": 2
}
