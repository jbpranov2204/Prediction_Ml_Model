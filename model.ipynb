{
 "cells": [
  {
   "cell_type": "code",
   "execution_count": 2,
   "metadata": {},
   "outputs": [],
   "source": [
    "import pandas as pd\n",
    "import numpy as np"
   ]
  },
  {
   "cell_type": "code",
   "execution_count": 3,
   "metadata": {},
   "outputs": [],
   "source": [
    "data = pd.read_csv(\"merged.csv\")"
   ]
  },
  {
   "cell_type": "code",
   "execution_count": 4,
   "metadata": {},
   "outputs": [
    {
     "data": {
      "text/plain": [
       "<bound method DataFrame.info of         Latitude  Longitude            Timestamp Weather  Age Type_of_Vehicle  \\\n",
       "0          11.06      76.80  2006-06-09 05:41:46   Clear   32           Truck   \n",
       "1          11.06      76.80  2006-06-09 05:41:46   Clear   32           Truck   \n",
       "2          11.06      76.80  2006-06-09 05:41:46   Clear   32           Truck   \n",
       "3          11.06      76.80  2006-06-09 05:41:46   Clear   32           Truck   \n",
       "4          11.06      76.80  2006-06-09 05:41:46   Clear   32           Truck   \n",
       "...          ...        ...                  ...     ...  ...             ...   \n",
       "705571     11.20      76.92  2014-12-29 20:37:35  Stormy   38             Bus   \n",
       "705572     11.20      76.92  2014-12-29 20:37:35  Stormy   38             Bus   \n",
       "705573     11.20      76.92  2014-12-29 20:37:35  Stormy   38             Bus   \n",
       "705574     11.20      76.92  2014-12-29 20:37:35  Stormy   38             Bus   \n",
       "705575     11.20      76.92  2014-12-29 20:37:35  Stormy   38             Bus   \n",
       "\n",
       "            Road_Type Time_of_Day  Traffic_Density  Speed_Limit  \\\n",
       "0          Rural Road       Night              NaN        120.0   \n",
       "1           City Road   Afternoon              2.0         60.0   \n",
       "2          Rural Road       Night              0.0        120.0   \n",
       "3       Mountain Road       Night              2.0        100.0   \n",
       "4          Rural Road     Morning              0.0          NaN   \n",
       "...               ...         ...              ...          ...   \n",
       "705571     Rural Road     Morning              1.0         60.0   \n",
       "705572      City Road   Afternoon              0.0         60.0   \n",
       "705573        Highway       Night              1.0         50.0   \n",
       "705574      City Road   Afternoon              1.0        100.0   \n",
       "705575      City Road         NaN              0.0         80.0   \n",
       "\n",
       "        Number_of_Vehicles  Driver_Alcohol Accident_Severity  \\\n",
       "0                      3.0             0.0          Moderate   \n",
       "1                      3.0             0.0               Low   \n",
       "2                      3.0             0.0          Moderate   \n",
       "3                      5.0             0.0               Low   \n",
       "4                      1.0             0.0               Low   \n",
       "...                    ...             ...               ...   \n",
       "705571                 3.0             0.0               Low   \n",
       "705572                 1.0             0.0               Low   \n",
       "705573                 4.0             1.0               Low   \n",
       "705574                 2.0             0.0              High   \n",
       "705575                 1.0             0.0          Moderate   \n",
       "\n",
       "            Road_Condition Vehicle_Type  Driver_Age  Driver_Experience  \\\n",
       "0                      Wet        Truck        49.0               43.0   \n",
       "1       Under Construction          Bus        34.0               31.0   \n",
       "2                      NaN        Truck        49.0               43.0   \n",
       "3                      Dry   Motorcycle        47.0               38.0   \n",
       "4                      NaN          Car        61.0               57.0   \n",
       "...                    ...          ...         ...                ...   \n",
       "705571                 Wet          Car        39.0               31.0   \n",
       "705572  Under Construction   Motorcycle        44.0               38.0   \n",
       "705573  Under Construction   Motorcycle        68.0               64.0   \n",
       "705574                 Wet          Car        68.0               62.0   \n",
       "705575                 Icy          Car        57.0               48.0   \n",
       "\n",
       "       Road_Light_Condition  Accident  \n",
       "0          Artificial Light       0.0  \n",
       "1                  Daylight       0.0  \n",
       "2          Artificial Light       0.0  \n",
       "3          Artificial Light       1.0  \n",
       "4          Artificial Light       0.0  \n",
       "...                     ...       ...  \n",
       "705571             Daylight       NaN  \n",
       "705572             No Light       1.0  \n",
       "705573     Artificial Light       0.0  \n",
       "705574             Daylight       0.0  \n",
       "705575     Artificial Light       1.0  \n",
       "\n",
       "[705576 rows x 19 columns]>"
      ]
     },
     "execution_count": 4,
     "metadata": {},
     "output_type": "execute_result"
    }
   ],
   "source": [
    "data.info\n"
   ]
  },
  {
   "cell_type": "code",
   "execution_count": 5,
   "metadata": {},
   "outputs": [
    {
     "data": {
      "text/plain": [
       "Index(['Latitude', 'Longitude', 'Timestamp', 'Weather', 'Age',\n",
       "       'Type_of_Vehicle', 'Road_Type', 'Time_of_Day', 'Traffic_Density',\n",
       "       'Speed_Limit', 'Number_of_Vehicles', 'Driver_Alcohol',\n",
       "       'Accident_Severity', 'Road_Condition', 'Vehicle_Type', 'Driver_Age',\n",
       "       'Driver_Experience', 'Road_Light_Condition', 'Accident'],\n",
       "      dtype='object')"
      ]
     },
     "execution_count": 5,
     "metadata": {},
     "output_type": "execute_result"
    }
   ],
   "source": [
    "data.columns"
   ]
  },
  {
   "cell_type": "code",
   "execution_count": 6,
   "metadata": {},
   "outputs": [
    {
     "data": {
      "text/plain": [
       "<bound method DataFrame.info of         Latitude  Longitude            Timestamp Weather  Age Type_of_Vehicle  \\\n",
       "0          11.06      76.80  2006-06-09 05:41:46   Clear   32           Truck   \n",
       "334        10.88      77.16  2019-01-28 17:28:02  Stormy   33   Auto-rickshaw   \n",
       "374        11.00      77.05  2024-03-25 01:13:09   Windy   18   Auto-rickshaw   \n",
       "375        10.97      77.07  2022-12-19 19:49:42  Stormy   27             Car   \n",
       "415        10.93      76.81  2003-08-23 19:49:18   Rainy   55           Truck   \n",
       "...          ...        ...                  ...     ...  ...             ...   \n",
       "697878     11.11      76.88  2006-02-23 15:43:15   Windy   50             Bus   \n",
       "698321     11.14      77.16  1992-03-28 19:31:26   Rainy   58             Bus   \n",
       "698912     11.13      77.15  2013-07-19 17:17:30  Stormy   27           Truck   \n",
       "700537     11.19      77.02  1998-08-02 23:55:51   Foggy   23            Bike   \n",
       "705536     11.20      76.92  2014-12-29 20:37:35  Stormy   38             Bus   \n",
       "\n",
       "         Road_Type Time_of_Day  Traffic_Density  Speed_Limit  \\\n",
       "0       Rural Road       Night              NaN        120.0   \n",
       "334        Highway     Morning              1.0         60.0   \n",
       "374            NaN         NaN              NaN          NaN   \n",
       "375        Highway     Morning              1.0         60.0   \n",
       "415      City Road     Morning              1.0        100.0   \n",
       "...            ...         ...              ...          ...   \n",
       "697878         NaN         NaN              NaN          NaN   \n",
       "698321   City Road     Morning              1.0        100.0   \n",
       "698912     Highway     Morning              1.0         60.0   \n",
       "700537     Highway   Afternoon              0.0         60.0   \n",
       "705536     Highway     Morning              1.0         60.0   \n",
       "\n",
       "        Number_of_Vehicles  Driver_Alcohol Accident_Severity Road_Condition  \\\n",
       "0                      3.0             0.0          Moderate            Wet   \n",
       "334                    2.0             0.0              High            Icy   \n",
       "374                    NaN             NaN               NaN            NaN   \n",
       "375                    2.0             0.0              High            Icy   \n",
       "415                    5.0             0.0               NaN            Wet   \n",
       "...                    ...             ...               ...            ...   \n",
       "697878                 NaN             NaN               NaN            NaN   \n",
       "698321                 5.0             0.0               NaN            Wet   \n",
       "698912                 2.0             0.0              High            Icy   \n",
       "700537                 4.0             0.0               Low            Dry   \n",
       "705536                 2.0             0.0              High            Icy   \n",
       "\n",
       "       Vehicle_Type  Driver_Age  Driver_Experience Road_Light_Condition  \\\n",
       "0             Truck        49.0               43.0     Artificial Light   \n",
       "334             Car        38.0               29.0     Artificial Light   \n",
       "374             NaN         NaN                NaN                  NaN   \n",
       "375             Car        38.0               29.0     Artificial Light   \n",
       "415             Car        51.0               48.0     Artificial Light   \n",
       "...             ...         ...                ...                  ...   \n",
       "697878          NaN         NaN                NaN                  NaN   \n",
       "698321          Car        51.0               48.0     Artificial Light   \n",
       "698912          Car        38.0               29.0     Artificial Light   \n",
       "700537        Truck        27.0               26.0             Daylight   \n",
       "705536          Car        38.0               29.0     Artificial Light   \n",
       "\n",
       "        Accident  \n",
       "0            0.0  \n",
       "334          0.0  \n",
       "374          NaN  \n",
       "375          0.0  \n",
       "415          0.0  \n",
       "...          ...  \n",
       "697878       NaN  \n",
       "698321       0.0  \n",
       "698912       0.0  \n",
       "700537       1.0  \n",
       "705536       0.0  \n",
       "\n",
       "[1561 rows x 19 columns]>"
      ]
     },
     "execution_count": 6,
     "metadata": {},
     "output_type": "execute_result"
    }
   ],
   "source": [
    "data.drop_duplicates(subset=['Latitude', 'Longitude'], inplace=True)\n",
    "data.info"
   ]
  },
  {
   "cell_type": "code",
   "execution_count": 7,
   "metadata": {},
   "outputs": [
    {
     "name": "stdout",
     "output_type": "stream",
     "text": [
      "Accuracy: 79.87%\n",
      "\n",
      "Classification Report:\n",
      "               precision    recall  f1-score   support\n",
      "\n",
      "           0       1.00      1.00      1.00       194\n",
      "           1       0.00      0.00      0.00        63\n",
      "           2       0.47      1.00      0.64        56\n",
      "\n",
      "    accuracy                           0.80       313\n",
      "   macro avg       0.49      0.67      0.55       313\n",
      "weighted avg       0.70      0.80      0.73       313\n",
      "\n"
     ]
    },
    {
     "name": "stderr",
     "output_type": "stream",
     "text": [
      "C:\\Users\\jbpra\\AppData\\Local\\Packages\\PythonSoftwareFoundation.Python.3.11_qbz5n2kfra8p0\\LocalCache\\local-packages\\Python311\\site-packages\\sklearn\\metrics\\_classification.py:1565: UndefinedMetricWarning: Precision is ill-defined and being set to 0.0 in labels with no predicted samples. Use `zero_division` parameter to control this behavior.\n",
      "  _warn_prf(average, modifier, f\"{metric.capitalize()} is\", len(result))\n",
      "C:\\Users\\jbpra\\AppData\\Local\\Packages\\PythonSoftwareFoundation.Python.3.11_qbz5n2kfra8p0\\LocalCache\\local-packages\\Python311\\site-packages\\sklearn\\metrics\\_classification.py:1565: UndefinedMetricWarning: Precision is ill-defined and being set to 0.0 in labels with no predicted samples. Use `zero_division` parameter to control this behavior.\n",
      "  _warn_prf(average, modifier, f\"{metric.capitalize()} is\", len(result))\n",
      "C:\\Users\\jbpra\\AppData\\Local\\Packages\\PythonSoftwareFoundation.Python.3.11_qbz5n2kfra8p0\\LocalCache\\local-packages\\Python311\\site-packages\\sklearn\\metrics\\_classification.py:1565: UndefinedMetricWarning: Precision is ill-defined and being set to 0.0 in labels with no predicted samples. Use `zero_division` parameter to control this behavior.\n",
      "  _warn_prf(average, modifier, f\"{metric.capitalize()} is\", len(result))\n"
     ]
    }
   ],
   "source": [
    "import pandas as pd\n",
    "from sklearn.model_selection import train_test_split\n",
    "from sklearn.tree import DecisionTreeClassifier\n",
    "from sklearn.metrics import classification_report, accuracy_score\n",
    "from sklearn.preprocessing import LabelEncoder, OneHotEncoder, StandardScaler\n",
    "from sklearn.compose import ColumnTransformer\n",
    "from sklearn.pipeline import Pipeline\n",
    "\n",
    "# Preprocessing the dataset\n",
    "# Encode the target variable\n",
    "data['Accident'] = LabelEncoder().fit_transform(data['Accident'])\n",
    "\n",
    "# Convert the Timestamp column to datetime and extract meaningful features\n",
    "data['Timestamp'] = pd.to_datetime(data['Timestamp'])\n",
    "data['Hour'] = data['Timestamp'].dt.hour\n",
    "data['Day'] = data['Timestamp'].dt.day\n",
    "data['Month'] = data['Timestamp'].dt.month\n",
    "data['DayOfWeek'] = data['Timestamp'].dt.dayofweek\n",
    "\n",
    "# Define features and target\n",
    "features = [\n",
    "    'Latitude', 'Longitude', 'Weather', 'Age', 'Type_of_Vehicle', 'Road_Type', 'Time_of_Day', \n",
    "    'Traffic_Density', 'Speed_Limit', 'Number_of_Vehicles', 'Driver_Alcohol', 'Accident_Severity', \n",
    "    'Road_Condition', 'Vehicle_Type', 'Driver_Age', 'Driver_Experience', 'Road_Light_Condition', \n",
    "    'Hour', 'Day', 'Month', 'DayOfWeek'\n",
    "]\n",
    "X = data[features]\n",
    "y = data['Accident']\n",
    "\n",
    "# Preprocessing for categorical and numerical features\n",
    "categorical_features = [\n",
    "    'Weather', 'Type_of_Vehicle', 'Road_Type', 'Time_of_Day', 'Traffic_Density', 'Driver_Alcohol', \n",
    "    'Accident_Severity', 'Road_Condition', 'Vehicle_Type', 'Road_Light_Condition'\n",
    "]\n",
    "numerical_features = [\n",
    "    'Latitude', 'Longitude', 'Age', 'Speed_Limit', 'Number_of_Vehicles', 'Driver_Age', \n",
    "    'Driver_Experience', 'Hour', 'Day', 'Month', 'DayOfWeek'\n",
    "]\n",
    "\n",
    "# Preprocessor for the pipeline\n",
    "preprocessor = ColumnTransformer(\n",
    "    transformers=[\n",
    "        ('num', StandardScaler(), numerical_features),\n",
    "        ('cat', OneHotEncoder(), categorical_features)\n",
    "    ]\n",
    ")\n",
    "\n",
    "# Decision Tree Classifier with limited depth\n",
    "pipeline = Pipeline(steps=[\n",
    "    ('preprocessor', preprocessor),\n",
    "    ('classifier', DecisionTreeClassifier(\n",
    "        max_depth=1,  # Limiting tree depth to underfit\n",
    "        min_samples_split=5,  # Larger split for underfitting\n",
    "        random_state=42\n",
    "    ))\n",
    "])\n",
    "\n",
    "# Split the dataset into training and testing sets\n",
    "X_train, X_test, y_train, y_test = train_test_split(X, y, test_size=0.2, random_state=42)\n",
    "\n",
    "# Fit the pipeline\n",
    "pipeline.fit(X_train, y_train)\n",
    "\n",
    "# Predictions and evaluation\n",
    "y_pred = pipeline.predict(X_test)\n",
    "\n",
    "# Evaluation metrics\n",
    "accuracy = accuracy_score(y_test, y_pred)\n",
    "report = classification_report(y_test, y_pred)\n",
    "\n",
    "# Output results\n",
    "print(f\"Accuracy: {accuracy * 100:.2f}%\")\n",
    "print(\"\\nClassification Report:\\n\", report)\n"
   ]
  }
 ],
 "metadata": {
  "kernelspec": {
   "display_name": "Python 3",
   "language": "python",
   "name": "python3"
  },
  "language_info": {
   "codemirror_mode": {
    "name": "ipython",
    "version": 3
   },
   "file_extension": ".py",
   "mimetype": "text/x-python",
   "name": "python",
   "nbconvert_exporter": "python",
   "pygments_lexer": "ipython3",
   "version": "3.11.9"
  }
 },
 "nbformat": 4,
 "nbformat_minor": 2
}
