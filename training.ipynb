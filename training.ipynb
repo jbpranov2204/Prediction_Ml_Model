{
 "cells": [
  {
   "cell_type": "code",
   "execution_count": 2,
   "metadata": {},
   "outputs": [],
   "source": [
    "import pandas as pd\n",
    "import numpy as np"
   ]
  },
  {
   "cell_type": "code",
   "execution_count": 3,
   "metadata": {},
   "outputs": [],
   "source": [
    "data = pd.read_csv(\"data.csv\")"
   ]
  },
  {
   "cell_type": "code",
   "execution_count": 4,
   "metadata": {},
   "outputs": [],
   "source": [
    "data['Accident'] = data['Accident'].replace(np.nan, 0)"
   ]
  },
  {
   "cell_type": "code",
   "execution_count": 5,
   "metadata": {},
   "outputs": [
    {
     "data": {
      "text/plain": [
       "Index(['Latitude', 'Longitude', 'Timestamp', 'Weather', 'Age',\n",
       "       'Type_of_Vehicle', 'Road_Type', 'Time_of_Day', 'Traffic_Density',\n",
       "       'Speed_Limit', 'Number_of_Vehicles', 'Driver_Alcohol',\n",
       "       'Accident_Severity', 'Road_Condition', 'Vehicle_Type', 'Driver_Age',\n",
       "       'Driver_Experience', 'Road_Light_Condition', 'Accident'],\n",
       "      dtype='object')"
      ]
     },
     "execution_count": 5,
     "metadata": {},
     "output_type": "execute_result"
    }
   ],
   "source": [
    "data.columns"
   ]
  },
  {
   "cell_type": "code",
   "execution_count": 7,
   "metadata": {},
   "outputs": [
    {
     "name": "stdout",
     "output_type": "stream",
     "text": [
      "Unique values in 'Accident': [0 1]\n",
      "Accuracy: 72.84%\n",
      "\n",
      "Classification Report:\n",
      "               precision    recall  f1-score   support\n",
      "\n",
      "           0       0.73      0.99      0.84    101810\n",
      "           1       0.73      0.04      0.08     39306\n",
      "\n",
      "    accuracy                           0.73    141116\n",
      "   macro avg       0.73      0.52      0.46    141116\n",
      "weighted avg       0.73      0.73      0.63    141116\n",
      "\n",
      "Model saved as 'Model.pkl'\n"
     ]
    }
   ],
   "source": [
    "import pandas as pd\n",
    "from sklearn.model_selection import train_test_split\n",
    "from sklearn.tree import DecisionTreeClassifier\n",
    "from sklearn.metrics import classification_report, accuracy_score\n",
    "from sklearn.preprocessing import LabelEncoder, OneHotEncoder, StandardScaler\n",
    "from sklearn.compose import ColumnTransformer\n",
    "from sklearn.pipeline import Pipeline\n",
    "import pickle  # For saving the model\n",
    "\n",
    "# Preprocessing the dataset\n",
    "# Encode the target variable\n",
    "data['Accident'] = LabelEncoder().fit_transform(data['Accident'])\n",
    "print(\"Unique values in 'Accident':\", data['Accident'].unique())\n",
    "\n",
    "# Convert the Timestamp column to datetime and extract meaningful features\n",
    "data['Timestamp'] = pd.to_datetime(data['Timestamp'])\n",
    "data['Hour'] = data['Timestamp'].dt.hour\n",
    "data['Day'] = data['Timestamp'].dt.day\n",
    "data['Month'] = data['Timestamp'].dt.month\n",
    "data['DayOfWeek'] = data['Timestamp'].dt.dayofweek\n",
    "\n",
    "# Define features and target\n",
    "features = [\n",
    "    'Latitude', 'Longitude', 'Weather', 'Age', 'Type_of_Vehicle', 'Road_Type', 'Time_of_Day', \n",
    "    'Traffic_Density', 'Speed_Limit', 'Number_of_Vehicles', 'Driver_Alcohol', 'Accident_Severity', \n",
    "    'Road_Condition', 'Vehicle_Type', 'Driver_Age', 'Driver_Experience', 'Road_Light_Condition', \n",
    "    'Hour', 'Day', 'Month', 'DayOfWeek'\n",
    "]\n",
    "X = data[features]\n",
    "y = data['Accident']\n",
    "\n",
    "# Preprocessing for categorical and numerical features\n",
    "categorical_features = [\n",
    "    'Weather', 'Type_of_Vehicle', 'Road_Type', 'Time_of_Day', 'Traffic_Density', 'Driver_Alcohol', \n",
    "    'Accident_Severity', 'Road_Condition', 'Vehicle_Type', 'Road_Light_Condition'\n",
    "]\n",
    "numerical_features = [\n",
    "    'Latitude', 'Longitude', 'Age', 'Speed_Limit', 'Number_of_Vehicles', 'Driver_Age', \n",
    "    'Driver_Experience', 'Hour', 'Day', 'Month', 'DayOfWeek'\n",
    "]\n",
    "\n",
    "# Preprocessor for the pipeline\n",
    "preprocessor = ColumnTransformer(\n",
    "    transformers=[\n",
    "        ('num', StandardScaler(), numerical_features),\n",
    "        ('cat', OneHotEncoder(), categorical_features)\n",
    "    ]\n",
    ")\n",
    "\n",
    "# Decision Tree Classifier\n",
    "pipeline = Pipeline(steps=[\n",
    "    ('preprocessor', preprocessor),\n",
    "    ('classifier', DecisionTreeClassifier(\n",
    "        max_depth=3,  # Adjust as needed for better performance\n",
    "        min_samples_split=5,  # Adjust as needed for better performance\n",
    "        random_state=42\n",
    "    ))\n",
    "])\n",
    "\n",
    "# Split the dataset into training and testing sets\n",
    "X_train, X_test, y_train, y_test = train_test_split(X, y, test_size=0.2, random_state=42)\n",
    "\n",
    "# Fit the pipeline\n",
    "pipeline.fit(X_train, y_train)\n",
    "\n",
    "# Predictions and evaluation\n",
    "y_pred = pipeline.predict(X_test)\n",
    "\n",
    "# Evaluation metrics\n",
    "accuracy = accuracy_score(y_test, y_pred)\n",
    "report = classification_report(y_test, y_pred)\n",
    "\n",
    "# Output results\n",
    "print(f\"Accuracy: {accuracy * 100:.2f}%\")\n",
    "print(\"\\nClassification Report:\\n\", report)\n",
    "\n",
    "# Save the pipeline as a .pkl file using pickle\n",
    "with open('Model.pkl', 'wb') as file:\n",
    "    pickle.dump(pipeline, file)\n",
    "\n",
    "print(\"Model saved as 'Model.pkl'\")"
   ]
  },
  {
   "cell_type": "code",
   "execution_count": 9,
   "metadata": {},
   "outputs": [
    {
     "name": "stdout",
     "output_type": "stream",
     "text": [
      "\n",
      "Prediction for the input:\n",
      "The model predicts: Accident\n",
      "Confidence: 80.14%\n"
     ]
    }
   ],
   "source": [
    "import pickle\n",
    "import pandas as pd\n",
    "\n",
    "# Load the saved pipeline\n",
    "with open('Model.pkl', 'rb') as file:\n",
    "    loaded_pipeline = pickle.load(file)\n",
    "\n",
    "# Example input data\n",
    "random_data = {\n",
    "    'Latitude': 12.9716,              \n",
    "    'Longitude': 77.5946,             \n",
    "    'Weather': 'Rainy',               \n",
    "    'Age': 5,                         \n",
    "    'Type_of_Vehicle': 'Car',         \n",
    "    'Road_Type': 'City Road',         \n",
    "    'Time_of_Day': 'Night',           \n",
    "    'Traffic_Density': 1.0,      \n",
    "    'Speed_Limit': 60,                \n",
    "    'Number_of_Vehicles': 3,          \n",
    "    'Driver_Alcohol': 0.0,          \n",
    "    'Accident_Severity': 'High',      \n",
    "    'Road_Condition': 'Wet',          \n",
    "    'Vehicle_Type': 'Car',            \n",
    "    'Driver_Age': 35,                 \n",
    "    'Driver_Experience': 10,          \n",
    "    'Road_Light_Condition': 'Daylight',\n",
    "    'Hour': 22,                       \n",
    "    'Day': 15,                        \n",
    "    'Month': 1,                       \n",
    "    'DayOfWeek': 5                    \n",
    "}\n",
    "\n",
    "# Convert the input data to a DataFrame\n",
    "user_input = pd.DataFrame([random_data])\n",
    "\n",
    "# Make predictions using the loaded pipeline\n",
    "prediction = loaded_pipeline.predict(user_input)\n",
    "\n",
    "# Map the prediction to a human-readable label\n",
    "label_mapping = {0: \"No Accident\", 1: \"Accident\"}\n",
    "predicted_label = label_mapping[prediction[0]]\n",
    "\n",
    "print(\"\\nPrediction for the input:\")\n",
    "print(f\"The model predicts: {predicted_label}\")\n",
    "\n",
    "# Predict probabilities\n",
    "prediction_proba = loaded_pipeline.predict_proba(user_input)\n",
    "confidence = max(prediction_proba[0]) * 100\n",
    "print(f\"Confidence: {confidence:.2f}%\")"
   ]
  }
 ],
 "metadata": {
  "kernelspec": {
   "display_name": "Python 3",
   "language": "python",
   "name": "python3"
  },
  "language_info": {
   "codemirror_mode": {
    "name": "ipython",
    "version": 3
   },
   "file_extension": ".py",
   "mimetype": "text/x-python",
   "name": "python",
   "nbconvert_exporter": "python",
   "pygments_lexer": "ipython3",
   "version": "3.12.5"
  }
 },
 "nbformat": 4,
 "nbformat_minor": 2
}
